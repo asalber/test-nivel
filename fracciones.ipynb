{
  "cells": [
    {
      "cell_type": "raw",
      "metadata": {},
      "source": [
        "---\n",
        "title: Fracciones\n",
        "lang: es\n",
        "---"
      ],
      "id": "bacf8b89"
    },
    {
      "cell_type": "code",
      "metadata": {
        "results": "hidden"
      },
      "source": [
        "#| echo: false\n",
        "using SymPy, Plots, QuizQuestions, LaTeXStrings\n",
        "nothing"
      ],
      "id": "e0dde232",
      "execution_count": null,
      "outputs": []
    },
    {
      "cell_type": "markdown",
      "metadata": {},
      "source": [
        ":::{#exr-fra-01}\n",
        "La expresión $\\dfrac{a}{b+a}-\\frac{b}{b-a}$, siendo $a$ y $b$ dos constantes, es igual a:\n"
      ],
      "id": "84c4684b"
    },
    {
      "cell_type": "code",
      "metadata": {},
      "source": [
        "#| echo: false\n",
        "choices = (\n",
        "    L\"$-1$.\", \n",
        "    L\"$\\dfrac{a^2+b^2}{a^2-b^2}$.\", \n",
        "    L\"$\\dfrac{a^2+b^2}{b^2-a^2}$\", \n",
        "    L\"$a+b$.\",\n",
        "    L\"Las otras opciones son falsas.\")\n",
        "answer = 2\n",
        "radioq(choices, answer)"
      ],
      "id": "7653a99c",
      "execution_count": null,
      "outputs": []
    }
  ],
  "metadata": {
    "kernelspec": {
      "name": "julia-1.9",
      "language": "julia",
      "display_name": "Julia 1.9.0"
    }
  },
  "nbformat": 4,
  "nbformat_minor": 5
}